{
  "nbformat": 4,
  "nbformat_minor": 0,
  "metadata": {
    "colab": {
      "provenance": [],
      "authorship_tag": "ABX9TyNME9SA3VN5YPOhsdbRMT7W",
      "include_colab_link": true
    },
    "kernelspec": {
      "name": "python3",
      "display_name": "Python 3"
    },
    "language_info": {
      "name": "python"
    }
  },
  "cells": [
    {
      "cell_type": "markdown",
      "metadata": {
        "id": "view-in-github",
        "colab_type": "text"
      },
      "source": [
        "<a href=\"https://colab.research.google.com/github/CS222-UIUC/course-project-group-102/blob/main/Training_Start.ipynb\" target=\"_parent\"><img src=\"https://colab.research.google.com/assets/colab-badge.svg\" alt=\"Open In Colab\"/></a>"
      ]
    },
    {
      "cell_type": "code",
      "execution_count": null,
      "metadata": {
        "id": "GBJOXdkOqedT"
      },
      "outputs": [],
      "source": [
        "import numpy as np\n",
        "import pandas as pd\n",
        "import matplotlib.pyplot as plt\n",
        "from sklearn import datasets\n",
        "from sklearn.model_selection import train_test_split\n",
        "from sklearn.linear_model import LinearRegression\n",
        "from sklearn.metrics import mean_squared_error\n"
      ]
    },
    {
      "cell_type": "code",
      "source": [
        "url = 'https://raw.githubusercontent.com/CS222-UIUC/course-project-group-102/main/Training_Dataset.csv'\n",
        "data = pd.read_csv(url)"
      ],
      "metadata": {
        "id": "CM4mN-6Eq_xn"
      },
      "execution_count": null,
      "outputs": []
    },
    {
      "cell_type": "code",
      "source": [
        "data.head()"
      ],
      "metadata": {
        "colab": {
          "base_uri": "https://localhost:8080/",
          "height": 206
        },
        "id": "kvesJUcWrTlt",
        "outputId": "9d6657d7-3aff-44c5-c9bb-1487d407203b"
      },
      "execution_count": null,
      "outputs": [
        {
          "output_type": "execute_result",
          "data": {
            "text/plain": [
              "       DATE AVERAGE STOCK PRICE  AVERAGE HOUSE PRICE\n",
              "0  1/1/2000            1,372.31          112533.0188\n",
              "1  2/1/2000            1,384.70          112998.5579\n",
              "2  3/1/2000            1,449.81          113355.1248\n",
              "3  4/1/2000            1,433.26          113456.4132\n",
              "4  5/1/2000            1,421.32          113958.5905"
            ],
            "text/html": [
              "\n",
              "  <div id=\"df-87929c6b-67a3-42f6-bd58-3bddb5f2037c\">\n",
              "    <div class=\"colab-df-container\">\n",
              "      <div>\n",
              "<style scoped>\n",
              "    .dataframe tbody tr th:only-of-type {\n",
              "        vertical-align: middle;\n",
              "    }\n",
              "\n",
              "    .dataframe tbody tr th {\n",
              "        vertical-align: top;\n",
              "    }\n",
              "\n",
              "    .dataframe thead th {\n",
              "        text-align: right;\n",
              "    }\n",
              "</style>\n",
              "<table border=\"1\" class=\"dataframe\">\n",
              "  <thead>\n",
              "    <tr style=\"text-align: right;\">\n",
              "      <th></th>\n",
              "      <th>DATE</th>\n",
              "      <th>AVERAGE STOCK PRICE</th>\n",
              "      <th>AVERAGE HOUSE PRICE</th>\n",
              "    </tr>\n",
              "  </thead>\n",
              "  <tbody>\n",
              "    <tr>\n",
              "      <th>0</th>\n",
              "      <td>1/1/2000</td>\n",
              "      <td>1,372.31</td>\n",
              "      <td>112533.0188</td>\n",
              "    </tr>\n",
              "    <tr>\n",
              "      <th>1</th>\n",
              "      <td>2/1/2000</td>\n",
              "      <td>1,384.70</td>\n",
              "      <td>112998.5579</td>\n",
              "    </tr>\n",
              "    <tr>\n",
              "      <th>2</th>\n",
              "      <td>3/1/2000</td>\n",
              "      <td>1,449.81</td>\n",
              "      <td>113355.1248</td>\n",
              "    </tr>\n",
              "    <tr>\n",
              "      <th>3</th>\n",
              "      <td>4/1/2000</td>\n",
              "      <td>1,433.26</td>\n",
              "      <td>113456.4132</td>\n",
              "    </tr>\n",
              "    <tr>\n",
              "      <th>4</th>\n",
              "      <td>5/1/2000</td>\n",
              "      <td>1,421.32</td>\n",
              "      <td>113958.5905</td>\n",
              "    </tr>\n",
              "  </tbody>\n",
              "</table>\n",
              "</div>\n",
              "      <button class=\"colab-df-convert\" onclick=\"convertToInteractive('df-87929c6b-67a3-42f6-bd58-3bddb5f2037c')\"\n",
              "              title=\"Convert this dataframe to an interactive table.\"\n",
              "              style=\"display:none;\">\n",
              "        \n",
              "  <svg xmlns=\"http://www.w3.org/2000/svg\" height=\"24px\"viewBox=\"0 0 24 24\"\n",
              "       width=\"24px\">\n",
              "    <path d=\"M0 0h24v24H0V0z\" fill=\"none\"/>\n",
              "    <path d=\"M18.56 5.44l.94 2.06.94-2.06 2.06-.94-2.06-.94-.94-2.06-.94 2.06-2.06.94zm-11 1L8.5 8.5l.94-2.06 2.06-.94-2.06-.94L8.5 2.5l-.94 2.06-2.06.94zm10 10l.94 2.06.94-2.06 2.06-.94-2.06-.94-.94-2.06-.94 2.06-2.06.94z\"/><path d=\"M17.41 7.96l-1.37-1.37c-.4-.4-.92-.59-1.43-.59-.52 0-1.04.2-1.43.59L10.3 9.45l-7.72 7.72c-.78.78-.78 2.05 0 2.83L4 21.41c.39.39.9.59 1.41.59.51 0 1.02-.2 1.41-.59l7.78-7.78 2.81-2.81c.8-.78.8-2.07 0-2.86zM5.41 20L4 18.59l7.72-7.72 1.47 1.35L5.41 20z\"/>\n",
              "  </svg>\n",
              "      </button>\n",
              "      \n",
              "  <style>\n",
              "    .colab-df-container {\n",
              "      display:flex;\n",
              "      flex-wrap:wrap;\n",
              "      gap: 12px;\n",
              "    }\n",
              "\n",
              "    .colab-df-convert {\n",
              "      background-color: #E8F0FE;\n",
              "      border: none;\n",
              "      border-radius: 50%;\n",
              "      cursor: pointer;\n",
              "      display: none;\n",
              "      fill: #1967D2;\n",
              "      height: 32px;\n",
              "      padding: 0 0 0 0;\n",
              "      width: 32px;\n",
              "    }\n",
              "\n",
              "    .colab-df-convert:hover {\n",
              "      background-color: #E2EBFA;\n",
              "      box-shadow: 0px 1px 2px rgba(60, 64, 67, 0.3), 0px 1px 3px 1px rgba(60, 64, 67, 0.15);\n",
              "      fill: #174EA6;\n",
              "    }\n",
              "\n",
              "    [theme=dark] .colab-df-convert {\n",
              "      background-color: #3B4455;\n",
              "      fill: #D2E3FC;\n",
              "    }\n",
              "\n",
              "    [theme=dark] .colab-df-convert:hover {\n",
              "      background-color: #434B5C;\n",
              "      box-shadow: 0px 1px 3px 1px rgba(0, 0, 0, 0.15);\n",
              "      filter: drop-shadow(0px 1px 2px rgba(0, 0, 0, 0.3));\n",
              "      fill: #FFFFFF;\n",
              "    }\n",
              "  </style>\n",
              "\n",
              "      <script>\n",
              "        const buttonEl =\n",
              "          document.querySelector('#df-87929c6b-67a3-42f6-bd58-3bddb5f2037c button.colab-df-convert');\n",
              "        buttonEl.style.display =\n",
              "          google.colab.kernel.accessAllowed ? 'block' : 'none';\n",
              "\n",
              "        async function convertToInteractive(key) {\n",
              "          const element = document.querySelector('#df-87929c6b-67a3-42f6-bd58-3bddb5f2037c');\n",
              "          const dataTable =\n",
              "            await google.colab.kernel.invokeFunction('convertToInteractive',\n",
              "                                                     [key], {});\n",
              "          if (!dataTable) return;\n",
              "\n",
              "          const docLinkHtml = 'Like what you see? Visit the ' +\n",
              "            '<a target=\"_blank\" href=https://colab.research.google.com/notebooks/data_table.ipynb>data table notebook</a>'\n",
              "            + ' to learn more about interactive tables.';\n",
              "          element.innerHTML = '';\n",
              "          dataTable['output_type'] = 'display_data';\n",
              "          await google.colab.output.renderOutput(dataTable, element);\n",
              "          const docLink = document.createElement('div');\n",
              "          docLink.innerHTML = docLinkHtml;\n",
              "          element.appendChild(docLink);\n",
              "        }\n",
              "      </script>\n",
              "    </div>\n",
              "  </div>\n",
              "  "
            ]
          },
          "metadata": {},
          "execution_count": 32
        }
      ]
    },
    {
      "cell_type": "code",
      "source": [
        "#made a dataframe out of data variable\n",
        "df = pd.DataFrame(data)\n",
        "#conversion of all numeric values to float\n",
        "df['AVERAGE STOCK PRICE'] = df['AVERAGE STOCK PRICE'].str.replace(',', '')\n",
        "df['AVERAGE STOCK PRICE'] = df['AVERAGE STOCK PRICE'].astype('float')\n",
        "df = df.rename(columns={'AVERAGE STOCK PRICE':'Average_Stock_Price'})\n",
        "df = df.rename(columns={'AVERAGE HOUSE PRICE':'Average_House_Price'})\n",
        "print (df)\n",
        "print (df.dtypes)\n"
      ],
      "metadata": {
        "colab": {
          "base_uri": "https://localhost:8080/"
        },
        "id": "jNDiumk7rUOb",
        "outputId": "67a16ea9-7282-4aab-de65-38ae6a1b66e7"
      },
      "execution_count": null,
      "outputs": [
        {
          "output_type": "stream",
          "name": "stdout",
          "text": [
            "         DATE  Average_Stock_Price  Average_House_Price\n",
            "0    1/1/2000              1372.31          112533.0188\n",
            "1    2/1/2000              1384.70          112998.5579\n",
            "2    3/1/2000              1449.81          113355.1248\n",
            "3    4/1/2000              1433.26          113456.4132\n",
            "4    5/1/2000              1421.32          113958.5905\n",
            "..        ...                  ...                  ...\n",
            "267  4/1/2022              4358.87          263235.3499\n",
            "268  5/1/2022              4058.99          265565.4204\n",
            "269  6/1/2022              3907.19          269000.8939\n",
            "270  7/1/2022              3930.86          269400.9397\n",
            "271  8/1/2022              4139.91          269159.5280\n",
            "\n",
            "[272 rows x 3 columns]\n",
            "DATE                    object\n",
            "Average_Stock_Price    float64\n",
            "Average_House_Price    float64\n",
            "dtype: object\n"
          ]
        }
      ]
    },
    {
      "cell_type": "code",
      "source": [
        "X = np.array(df.Average_Stock_Price)\n",
        "y = np.array(df.Average_House_Price)"
      ],
      "metadata": {
        "id": "xQWhpvj9sDsX"
      },
      "execution_count": null,
      "outputs": []
    },
    {
      "cell_type": "code",
      "source": [
        "#print(X)\n",
        "#print(y)"
      ],
      "metadata": {
        "id": "mrXtueFkvbFC"
      },
      "execution_count": null,
      "outputs": []
    },
    {
      "cell_type": "code",
      "source": [
        "X_train, X_test, y_train, y_test = train_test_split(X, y, test_size=0.20, random_state=27)"
      ],
      "metadata": {
        "id": "uOfKQH0ayPzU"
      },
      "execution_count": null,
      "outputs": []
    },
    {
      "cell_type": "code",
      "source": [
        "#print(X_train)  \n",
        "#print(y_train)"
      ],
      "metadata": {
        "id": "68lM0zNDzg2y"
      },
      "execution_count": null,
      "outputs": []
    },
    {
      "cell_type": "code",
      "source": [
        "#lda = LinearDiscriminantAnalysis(n_components=2)\n",
        "#lda.fit(X_train, y_train)"
      ],
      "metadata": {
        "id": "wpP04AOzzo8S"
      },
      "execution_count": null,
      "outputs": []
    },
    {
      "cell_type": "code",
      "source": [
        "reg = LinearRegression().fit(np.array(X_train).reshape(-1,1), y_train)\n"
      ],
      "metadata": {
        "id": "JeRnX4RQ4tFc"
      },
      "execution_count": null,
      "outputs": []
    },
    {
      "cell_type": "code",
      "source": [
        "print(reg.score(X.reshape(-1,1),y))"
      ],
      "metadata": {
        "colab": {
          "base_uri": "https://localhost:8080/"
        },
        "id": "UVCqFckNGBNB",
        "outputId": "7aca0033-4393-41ef-dd7e-c096b5114c3a"
      },
      "execution_count": null,
      "outputs": [
        {
          "output_type": "stream",
          "name": "stdout",
          "text": [
            "0.7837555190406205\n"
          ]
        }
      ]
    },
    {
      "cell_type": "code",
      "source": [
        "#predictions drawn from testing data\n",
        "#compare to y_test?\n",
        "#see plot below for initial prediction plot\n",
        "preds = reg.predict(np.array(X_test).reshape(-1,1))\n",
        "preds"
      ],
      "metadata": {
        "id": "anYn9UDpIc_x",
        "colab": {
          "base_uri": "https://localhost:8080/"
        },
        "outputId": "e95b4c62-afb5-4363-91cc-078a5feef8e7"
      },
      "execution_count": null,
      "outputs": [
        {
          "output_type": "execute_result",
          "data": {
            "text/plain": [
              "array([176315.2683038 , 167177.59808726, 170090.28655105, 141688.73252774,\n",
              "       140314.34317765, 144282.57462652, 176373.29475297, 149191.49258377,\n",
              "       138823.00361302, 150727.0997488 , 141593.61700797, 179081.69422305,\n",
              "       138909.14597054, 139483.72745944, 144610.69325918, 158915.11029473,\n",
              "       131827.82543448, 227084.52295342, 164150.35225218, 198382.66710041,\n",
              "       146166.34048655, 135857.373492  , 166647.28419875, 139827.10046791,\n",
              "       146556.07483326, 148615.71467324, 141471.88110689, 163895.5144445 ,\n",
              "       149789.4042945 , 149588.70456569, 166403.51329117, 141437.48398496,\n",
              "       149933.8722066 , 162265.98818134, 161186.51676361, 140725.91221916,\n",
              "       133271.90634464, 142643.17788489, 156850.38566282, 199138.80557201,\n",
              "       147249.99937999, 130875.17470977, 138872.95421616, 147217.99510132,\n",
              "       184511.65380115, 130668.19376739, 137974.74067573, 168105.7221685 ,\n",
              "       135690.77177971, 146248.29536836, 137643.03277818, 183672.66313152,\n",
              "       155976.69876584, 198475.0906715 , 146963.75550446])"
            ]
          },
          "metadata": {},
          "execution_count": 41
        }
      ]
    },
    {
      "cell_type": "code",
      "source": [
        "y_test"
      ],
      "metadata": {
        "colab": {
          "base_uri": "https://localhost:8080/"
        },
        "id": "I9e8tGazIwAY",
        "outputId": "429890c5-0bff-4c53-9590-19475027f4f5"
      },
      "execution_count": null,
      "outputs": [
        {
          "output_type": "execute_result",
          "data": {
            "text/plain": [
              "array([169010.8145, 163349.2936, 164586.5192, 156697.3775, 156506.6114,\n",
              "       137555.5185, 169887.0888, 114354.1988, 143978.5472, 168643.0938,\n",
              "       162007.4398, 172928.4575, 143743.6856, 143648.3842, 135976.7971,\n",
              "       145598.7233, 153770.6003, 265565.4204, 149893.2503, 197030.3294,\n",
              "       135674.692 , 145810.9169, 151299.4775, 144334.6832, 118565.3275,\n",
              "       136850.9258, 155391.6182, 157614.3068, 117137.9128, 139178.9582,\n",
              "       152715.2625, 157502.1659, 166195.1025, 148993.4031, 148506.124 ,\n",
              "       135772.7614, 147419.6527, 162642.8771, 145137.4906, 195389.4032,\n",
              "       135242.857 , 135315.9096, 150604.2507, 137724.5405, 180438.375 ,\n",
              "       134744.9319, 143421.113 , 154685.3092, 155094.9084, 162570.2266,\n",
              "       125690.9805, 175505.379 , 144811.8598, 194515.2356, 117791.0391])"
            ]
          },
          "metadata": {},
          "execution_count": 42
        }
      ]
    },
    {
      "cell_type": "code",
      "source": [
        "#initial test data plot (need to add more here with the testing dataset we have on gitHub)\n",
        "y_pred = reg.predict(X_test.reshape(-1, 1))\n",
        "plt.scatter(X_test, y_test, color ='b')\n",
        "plt.plot(X_test, y_pred, color ='k')\n",
        "\n",
        "plt.xlabel(\"Stock Price\")\n",
        "plt.ylabel(\"House Price\")\n",
        "\n",
        "plt.show()"
      ],
      "metadata": {
        "colab": {
          "base_uri": "https://localhost:8080/",
          "height": 279
        },
        "id": "GN4rm7oKX9MQ",
        "outputId": "48b6e504-0735-4e7c-ef2a-07d45946b7db"
      },
      "execution_count": null,
      "outputs": [
        {
          "output_type": "display_data",
          "data": {
            "text/plain": [
              "<Figure size 432x288 with 1 Axes>"
            ],
            "image/png": "[encoded data removed]"
          },
          "metadata": {
            "needs_background": "light"
          }
        }
      ]
    },
    {
      "cell_type": "code",
      "source": [
        "#accuracy metrics\n",
        "residuals = preds - y_test\n",
        "residuals"
      ],
      "metadata": {
        "colab": {
          "base_uri": "https://localhost:8080/"
        },
        "id": "HjnVp6XiMT7T",
        "outputId": "dd078e1b-44f5-49ef-df36-bbf29a6df793"
      },
      "execution_count": null,
      "outputs": [
        {
          "output_type": "execute_result",
          "data": {
            "text/plain": [
              "array([  7304.4538038 ,   3828.30448726,   5503.76735105, -15008.64497226,\n",
              "       -16192.26822235,   6727.05612652,   6486.20595297,  34837.29378377,\n",
              "        -5155.54358698, -17915.9940512 , -20413.82279203,   6153.23672305,\n",
              "        -4834.53962946,  -4164.65674056,   8633.89615918,  13316.38699473,\n",
              "       -21942.77486552, -38480.89744658,  14257.10195218,   1352.33770041,\n",
              "        10491.64848655,  -9953.543408  ,  15347.80669875,  -4507.58273209,\n",
              "        27990.74733326,  11764.78887324, -13919.73709311,   6281.2076445 ,\n",
              "        32651.4914945 ,  10409.74636569,  13688.25079117, -16064.68191504,\n",
              "       -16261.2302934 ,  13272.58508134,  12680.39276361,   4953.15081916,\n",
              "       -14147.74635536, -19999.69921511,  11712.89506282,   3749.40237201,\n",
              "        12007.14237999,  -4440.73489023, -11731.29648384,   9493.45460132,\n",
              "         4073.27880115,  -4076.73813261,  -5446.37232427,  13420.4129685 ,\n",
              "       -19404.13662029, -16321.93123164,  11952.05227818,   8167.28413152,\n",
              "        11164.83896584,   3959.8550715 ,  29172.71640446])"
            ]
          },
          "metadata": {},
          "execution_count": 44
        }
      ]
    },
    {
      "cell_type": "code",
      "source": [
        "plt.hist(residuals)"
      ],
      "metadata": {
        "colab": {
          "base_uri": "https://localhost:8080/",
          "height": 352
        },
        "id": "SOkfX5pdMdHw",
        "outputId": "b2e93622-3d34-46af-aef2-00b74794e3ac"
      },
      "execution_count": null,
      "outputs": [
        {
          "output_type": "execute_result",
          "data": {
            "text/plain": [
              "(array([ 1.,  0.,  5.,  9.,  7.,  7., 16.,  6.,  0.,  4.]),\n",
              " array([-38480.89744658, -31149.07832354, -23817.25920051, -16485.44007747,\n",
              "         -9153.62095444,  -1821.8018314 ,   5510.01729163,  12841.83641467,\n",
              "         20173.6555377 ,  27505.47466074,  34837.29378377]),\n",
              " <a list of 10 Patch objects>)"
            ]
          },
          "metadata": {},
          "execution_count": 45
        },
        {
          "output_type": "display_data",
          "data": {
            "text/plain": [
              "<Figure size 432x288 with 1 Axes>"
            ],
            "image/png": "[encoded data removed]"
          },
          "metadata": {
            "needs_background": "light"
          }
        }
      ]
    },
    {
      "cell_type": "code",
      "source": [
        "mean_squared_error(y_test, preds) ** 0.5"
      ],
      "metadata": {
        "colab": {
          "base_uri": "https://localhost:8080/"
        },
        "id": "WZ72udLoMhzV",
        "outputId": "b7bb6347-bb70-40bb-c0e9-2a24e6527100"
      },
      "execution_count": null,
      "outputs": [
        {
          "output_type": "execute_result",
          "data": {
            "text/plain": [
              "14920.794721686125"
            ]
          },
          "metadata": {},
          "execution_count": 46
        }
      ]
    },
    {
      "cell_type": "code",
      "source": [],
      "metadata": {
        "id": "t-Vd8wYFYP4c"
      },
      "execution_count": null,
      "outputs": []
    }
  ]
}